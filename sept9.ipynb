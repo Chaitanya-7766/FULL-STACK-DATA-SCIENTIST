{
 "cells": [
  {
   "cell_type": "code",
   "execution_count": 33,
   "id": "c259d008",
   "metadata": {},
   "outputs": [
    {
     "name": "stdout",
     "output_type": "stream",
     "text": [
      "['Hello world', 'i am chaitanya', 'from btech']\n",
      "Hello world i am chaitanya from btech \n",
      "The total no. of words are: 7\n"
     ]
    }
   ],
   "source": [
    "file=open(\"file1.txt\",\"r\")\n",
    "list=(file.read().split(\"\\n\"))\n",
    "print(list)\n",
    "sentence=\"\"\n",
    "for i in range(len(list)):\n",
    "    sentence+=list[i]\n",
    "    if i!=len(list):\n",
    "        sentence+=\" \"\n",
    "print(sentence)\n",
    "print(\"The total no. of words are:\",len(sentence.split()))"
   ]
  },
  {
   "cell_type": "code",
   "execution_count": 45,
   "id": "577f65ab",
   "metadata": {},
   "outputs": [
    {
     "name": "stdout",
     "output_type": "stream",
     "text": [
      "Strong Password\n"
     ]
    }
   ],
   "source": [
    "inp=input(\"Enter a password: \")\n",
    "validity=True\n",
    "has_upper=False\n",
    "has_lower=False\n",
    "has_digit=False\n",
    "has_special=False\n",
    "if len(inp)<8:\n",
    "    validity=False\n",
    "for char in inp:\n",
    "    if char >='A' and char <='Z':\n",
    "        has_upper=True\n",
    "    elif char >='a' and char <= 'z':\n",
    "        has_lower=True\n",
    "    elif char >= '0' and char <= '9':\n",
    "        has_digit=True\n",
    "    elif not(char.isalnum()):\n",
    "        has_special=True\n",
    "validity= has_upper and has_lower and has_digit and has_special\n",
    "if validity:\n",
    "    print(\"Strong Password\")\n",
    "else :\n",
    "    print(\"Weak Password\")\n",
    "\n"
   ]
  },
  {
   "cell_type": "code",
   "execution_count": 46,
   "id": "2e9c5165",
   "metadata": {},
   "outputs": [
    {
     "name": "stdout",
     "output_type": "stream",
     "text": [
      "5 / 7 = 0.7142857142857143\n"
     ]
    }
   ],
   "source": [
    "a=int(input(\"Enter the first number: \"))\n",
    "b=int(input(\"Enter the second number: \"))\n",
    "op=input(\"Enter an operation you want to perform: \")\n",
    "if op == '+':\n",
    "    res=a+b\n",
    "elif op == '-':\n",
    "    res=a-b\n",
    "elif op == '*':\n",
    "    res=a*b\n",
    "elif op == '/':\n",
    "    res = a/b\n",
    "print(f\"{a} {op} {b} =\",res)\n"
   ]
  },
  {
   "cell_type": "code",
   "execution_count": 52,
   "id": "6d98f807",
   "metadata": {},
   "outputs": [
    {
     "name": "stdout",
     "output_type": "stream",
     "text": [
      "sami\n",
      "chai\n"
     ]
    }
   ],
   "source": [
    "from collections import Counter\n",
    "string=input(\"Enter , separated names:\")\n",
    "list=string.split(\",\")\n",
    "counter=Counter(list)\n",
    "counter=dict(counter)\n",
    "# print(counter)\n",
    "for keys,values in counter.items():\n",
    "    if values>1:\n",
    "        print(keys)\n",
    "\n",
    "    "
   ]
  },
  {
   "cell_type": "code",
   "execution_count": 54,
   "id": "7cddf284",
   "metadata": {},
   "outputs": [
    {
     "name": "stdout",
     "output_type": "stream",
     "text": [
      "45 in fahrenheit is: 113.0\n"
     ]
    }
   ],
   "source": [
    "cel=int(input(\"Enter celsius:\"))\n",
    "fah=((9/5)*cel)+32\n",
    "print(f\"{cel} in fahrenheit is:\",fah)"
   ]
  },
  {
   "cell_type": "code",
   "execution_count": 56,
   "id": "bb24ae1b",
   "metadata": {},
   "outputs": [
    {
     "name": "stdout",
     "output_type": "stream",
     "text": [
      "6 is the max\n"
     ]
    }
   ],
   "source": [
    "string=input(\"Enter , separated integers:\")\n",
    "list=string.split(\",\")\n",
    "print(max(list),\"is the max\")"
   ]
  },
  {
   "cell_type": "code",
   "execution_count": 57,
   "id": "515c26c4",
   "metadata": {},
   "outputs": [
    {
     "name": "stdout",
     "output_type": "stream",
     "text": [
      "The simple interest is: 800.0\n"
     ]
    }
   ],
   "source": [
    "p=int(input(\"Enter the principal amount:\"))\n",
    "t=int(input(\"Enter the time duration:\"))\n",
    "r=int(input(\"Enter the rate of interest:\"))\n",
    "interest=(p*t*r)/100\n",
    "print(\"The simple interest is:\",interest)"
   ]
  },
  {
   "cell_type": "code",
   "execution_count": 59,
   "id": "4a4258b1",
   "metadata": {},
   "outputs": [
    {
     "name": "stdout",
     "output_type": "stream",
     "text": [
      "tarun\n",
      "koushik\n"
     ]
    }
   ],
   "source": [
    "n=int(input(\"Enter dictionary size:\"))\n",
    "my_dict={input(\"Key: \"):int(input(\"Value:\")) for _ in range(n)}\n",
    "for keys, values in my_dict.items():\n",
    "    if values<=75:\n",
    "        print(keys)"
   ]
  },
  {
   "cell_type": "code",
   "execution_count": 60,
   "id": "fd252a1f",
   "metadata": {},
   "outputs": [
    {
     "name": "stdout",
     "output_type": "stream",
     "text": [
      "10\n"
     ]
    }
   ],
   "source": [
    "n=int(input(\"Enter a number: \"))\n",
    "sum=0\n",
    "while(n>0):\n",
    "    rem=n%10\n",
    "    sum+=rem\n",
    "    n=n//10\n",
    "print(sum)"
   ]
  },
  {
   "cell_type": "code",
   "execution_count": 63,
   "id": "cf981391",
   "metadata": {},
   "outputs": [
    {
     "name": "stdout",
     "output_type": "stream",
     "text": [
      "True\n"
     ]
    }
   ],
   "source": [
    "def is_prime(n):\n",
    "    count=0\n",
    "    for i in range(1,n//2+1):\n",
    "        if n%i==0:\n",
    "            count+=1\n",
    "    if count==1:\n",
    "        return True\n",
    "    else:\n",
    "        return False\n",
    "n=int(input(\"Enter a number to check prime: \"))\n",
    "print(is_prime(n))"
   ]
  },
  {
   "cell_type": "code",
   "execution_count": 66,
   "id": "2bd33707",
   "metadata": {},
   "outputs": [
    {
     "name": "stdout",
     "output_type": "stream",
     "text": [
      "Min in [4, 21, 6, 9, 0, 3] is: 0\n",
      "Max in [4, 21, 6, 9, 0, 3] is: 21\n"
     ]
    }
   ],
   "source": [
    "string=input(\"Enter space separated numbers: \")\n",
    "num=[int(x) for x in string.split()]\n",
    "print(\"Min in\",num,\"is:\",min(num))\n",
    "print(\"Max in\",num,\"is:\",max(num))"
   ]
  },
  {
   "cell_type": "code",
   "execution_count": 68,
   "id": "21cf3636",
   "metadata": {},
   "outputs": [
    {
     "name": "stdout",
     "output_type": "stream",
     "text": [
      "The total bill is:  2600\n"
     ]
    }
   ],
   "source": [
    "n=int(input(\"Enter size of the dictionary: \"))\n",
    "my_dict={int(input(\"Enter no. of items: \")):int(input(\"Enter Price of the item: \")) for _ in range(n)}\n",
    "sum=0\n",
    "for keys,values in my_dict.items():\n",
    "    sum+=keys*values\n",
    "print(\"The total bill is: \",sum)"
   ]
  },
  {
   "cell_type": "code",
   "execution_count": 71,
   "id": "54970b74",
   "metadata": {},
   "outputs": [
    {
     "name": "stdout",
     "output_type": "stream",
     "text": [
      "8\n"
     ]
    }
   ],
   "source": [
    "a=input(\"Enter first number: \")\n",
    "b=input(\"Enter second number: \")\n",
    "c=input(\"Enter third number: \")\n",
    "print(max(a,b,c))"
   ]
  },
  {
   "cell_type": "code",
   "execution_count": 72,
   "id": "3fcee240",
   "metadata": {},
   "outputs": [
    {
     "name": "stdout",
     "output_type": "stream",
     "text": [
      "{'m': 2, 'y': 3, ' ': 9, 'n': 4, 'a': 5, 'e': 3, 'i': 4, 's': 2, 'c': 3, 'h': 1, 't': 2, 'd': 2, 'u': 1, 'v': 1, 'r': 1, 'o': 1, 'l': 2, 'g': 1}\n"
     ]
    }
   ],
   "source": [
    "from collections import Counter\n",
    "string=input(\"Enter a sentence to count, no. of characters are there in a sentence: \")\n",
    "counter=Counter(string)\n",
    "my_dict=dict(counter)\n",
    "print(my_dict)"
   ]
  },
  {
   "cell_type": "code",
   "execution_count": 76,
   "id": "f8e35581",
   "metadata": {},
   "outputs": [
    {
     "name": "stdout",
     "output_type": "stream",
     "text": [
      "2400\n"
     ]
    }
   ],
   "source": [
    "first_hundred=5\n",
    "next_hundred=7\n",
    "above_200=10\n",
    "units=int(input(\"Enter the no. of units burned: \"))\n",
    "if units<=100:\n",
    "    bill=units*first_hundred\n",
    "elif units>100 and units<=200:\n",
    "    bill=100*first_hundred+(units-100)*next_hundred\n",
    "else:\n",
    "    bill=100*first_hundred+100*next_hundred+(units-200)*above_200\n",
    "print(bill)"
   ]
  },
  {
   "cell_type": "code",
   "execution_count": 77,
   "id": "e3599d3d",
   "metadata": {},
   "outputs": [
    {
     "name": "stdout",
     "output_type": "stream",
     "text": [
      "['ashish', 'chaitanha', 'sami']\n"
     ]
    }
   ],
   "source": [
    "string=input(\"Enter space separated names: \")\n",
    "list=string.split()\n",
    "print(sorted(list))"
   ]
  },
  {
   "cell_type": "code",
   "execution_count": 79,
   "id": "e35f4f81",
   "metadata": {},
   "outputs": [
    {
     "name": "stdout",
     "output_type": "stream",
     "text": [
      "Reverse of the number is: 5\n"
     ]
    }
   ],
   "source": [
    "string=input(\"Ente a number: \")\n",
    "print(\"Reverse of the number is:\",a[::-1])"
   ]
  }
 ],
 "metadata": {
  "kernelspec": {
   "display_name": "Python 3",
   "language": "python",
   "name": "python3"
  },
  "language_info": {
   "codemirror_mode": {
    "name": "ipython",
    "version": 3
   },
   "file_extension": ".py",
   "mimetype": "text/x-python",
   "name": "python",
   "nbconvert_exporter": "python",
   "pygments_lexer": "ipython3",
   "version": "3.11.0"
  }
 },
 "nbformat": 4,
 "nbformat_minor": 5
}
