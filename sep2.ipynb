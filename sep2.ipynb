{
 "cells": [
  {
   "cell_type": "code",
   "execution_count": null,
   "id": "3791a189",
   "metadata": {},
   "outputs": [],
   "source": [
    "str=input(\"Enter sentence: \")\n",
    "wc=len(str.split(\" \"))\n",
    "print(\"Total words =\",wc)\n",
    "vowels=0\n",
    "cc=0\n",
    "vowel=['a','e','i','o','u']\n",
    "for char in str:\n",
    "    if char in vowel:\n",
    "        vowels+=1\n",
    "        cc+=1\n",
    "    elif char != \" \":\n",
    "        cc+=1\n",
    "print(\"Total Characters =\",cc)\n",
    "print(\"Total Vowels =\",vc)\n"
   ]
  }
 ],
 "metadata": {
  "kernelspec": {
   "display_name": "Python 3",
   "language": "python",
   "name": "python3"
  },
  "language_info": {
   "codemirror_mode": {
    "name": "ipython",
    "version": 3
   },
   "file_extension": ".py",
   "mimetype": "text/x-python",
   "name": "python",
   "nbconvert_exporter": "python",
   "pygments_lexer": "ipython3",
   "version": "3.11.0"
  }
 },
 "nbformat": 4,
 "nbformat_minor": 5
}
