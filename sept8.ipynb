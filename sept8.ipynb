{
 "cells": [
  {
   "cell_type": "code",
   "execution_count": 2,
   "id": "ec7c4d5e",
   "metadata": {},
   "outputs": [
    {
     "name": "stdout",
     "output_type": "stream",
     "text": [
      "The prime numbers upto 10 are: \n",
      "2 3 5 7 "
     ]
    }
   ],
   "source": [
    "def prime(n):\n",
    "    count=0\n",
    "    for i in range(1,n+1):\n",
    "        for j in range(1,i+1):\n",
    "            if i%j==0:\n",
    "                count+=1\n",
    "        if count==2:\n",
    "            print(i,end =\" \")\n",
    "        count=0\n",
    "n=int(input(\"Enter a number: \"))\n",
    "print(\"The prime numbers upto\",n,\"are: \")\n",
    "prime(n)\n",
    "            \n"
   ]
  },
  {
   "cell_type": "code",
   "execution_count": 13,
   "id": "6b0f6571",
   "metadata": {},
   "outputs": [
    {
     "name": "stdout",
     "output_type": "stream",
     "text": [
      "It is a palindrome\n"
     ]
    }
   ],
   "source": [
    "def palindrome(str):\n",
    "    str2=\"\".join(str.split(\" \")).lower()\n",
    "    if str2==str2[::-1]:\n",
    "        print(\"It is a palindrome\")\n",
    "    else:\n",
    "        print(\"It is not a palindrome\")\n",
    "str=input(\"Enter a string to check for palindrome\")\n",
    "palindrome(str)"
   ]
  },
  {
   "cell_type": "code",
   "execution_count": 18,
   "id": "23626bd6",
   "metadata": {},
   "outputs": [
    {
     "name": "stdout",
     "output_type": "stream",
     "text": [
      "The strings are anagrams\n"
     ]
    }
   ],
   "source": [
    "def anagram(str1,str2):\n",
    "    if(sorted(str1)==sorted(str2)):\n",
    "        print(\"The strings are anagrams\")\n",
    "    else:\n",
    "        print(\"The strings are not anagrams\")\n",
    "str1=input(\"Enter string 1: \")\n",
    "str2=input(\"Enter string 2: \")\n",
    "anagram(str1,str2)"
   ]
  },
  {
   "cell_type": "code",
   "execution_count": null,
   "id": "179f15e0",
   "metadata": {},
   "outputs": [
    {
     "name": "stdout",
     "output_type": "stream",
     "text": [
      "The no. of vowels are 4 and the no. of consonants are 5\n"
     ]
    }
   ],
   "source": [
    "def consonantsVowels(str1):\n",
    "    vc=0;cc=0\n",
    "    vowels=['a','e','i','o','u']\n",
    "    for char in str1.lower():\n",
    "        if char in vowels:\n",
    "            vc+=1\n",
    "        elif char != \" \":\n",
    "            cc+=1\n",
    "    return vc,cc\n",
    "inp=input(\"Enter a string to count no. of vowels and consonants: \")\n",
    "vc,cc=consonantsVowels(inp)\n",
    "print(f\"The no. of vowels are {vc} and the no. of consonants are {cc}\")"
   ]
  },
  {
   "cell_type": "code",
   "execution_count": 23,
   "id": "7fa965aa",
   "metadata": {},
   "outputs": [
    {
     "name": "stdout",
     "output_type": "stream",
     "text": [
      "chaitanya\n"
     ]
    }
   ],
   "source": [
    "def longestWord(sentence):\n",
    "    str1=sentence.split()\n",
    "    longWord=str1[0]\n",
    "    longWordLen=len(str1[0])\n",
    "    for i in range(1,len(str1)):\n",
    "        if len(str1[i])>longWordLen:\n",
    "            longWordLen=len(str1[i])\n",
    "            longWord=str1[i]\n",
    "    return longWord\n",
    "sentence=input(\"Enter a sentence : \")\n",
    "print(longestWord(sentence))"
   ]
  },
  {
   "cell_type": "code",
   "execution_count": 28,
   "id": "8657cbe3",
   "metadata": {},
   "outputs": [
    {
     "name": "stdout",
     "output_type": "stream",
     "text": [
      "Square root of 25 is: 5.0\n",
      "Factorial of 25 is: 15511210043330985984000000\n",
      "Sin of 25 is: 0.42261826174069944\n",
      "Cos of 25 is: 0.9063077870366499\n"
     ]
    }
   ],
   "source": [
    "import math\n",
    "n=int(input(\"Enter a number to perform math operations: \"))\n",
    "print(\"Square root of\",n,\"is:\",math.sqrt(n))\n",
    "print(\"Factorial of\",n,\"is:\",math.factorial(n))\n",
    "print(\"Sin of\",n,\"is:\",math.sin(math.radians(n)))\n",
    "print(\"Cos of\",n,\"is:\",math.cos(math.radians(n)))"
   ]
  },
  {
   "cell_type": "code",
   "execution_count": null,
   "id": "0055bf47",
   "metadata": {},
   "outputs": [],
   "source": [
    "from collections import Counter\n",
    "inp=input(\"Enter a string\")\n",
    "words = inp.split()\n",
    "counter = Counter(words)\n",
    "print(counter)"
   ]
  },
  {
   "cell_type": "code",
   "execution_count": 31,
   "id": "b8883abc",
   "metadata": {},
   "outputs": [
    {
     "name": "stdout",
     "output_type": "stream",
     "text": [
      "5\n",
      "4\n",
      "3\n",
      "2\n",
      "1\n",
      "0\n",
      "Time's up...\n"
     ]
    }
   ],
   "source": [
    "import time\n",
    "def countdown(seconds):\n",
    "    while seconds>=0:\n",
    "        print(seconds)\n",
    "        time.sleep(1)\n",
    "        seconds-=1\n",
    "    print(\"Time's up...\")\n",
    "sec=int(input(\"Enter the seconds: \"))\n",
    "countdown(sec)\n"
   ]
  },
  {
   "cell_type": "code",
   "execution_count": null,
   "id": "b9946139",
   "metadata": {},
   "outputs": [],
   "source": [
    "import random\n",
    "def weather():\n",
    "    w=random.choice([\"Sunny\",\"Rainy\",\"Cloudy\",\"Stormy\"])\n",
    "    t=random.randint(-10,50)\n",
    "    return f\"Weather: {w}, Temperatur: {t}C\"\n",
    "print(weather())"
   ]
  }
 ],
 "metadata": {
  "kernelspec": {
   "display_name": "Python 3",
   "language": "python",
   "name": "python3"
  },
  "language_info": {
   "codemirror_mode": {
    "name": "ipython",
    "version": 3
   },
   "file_extension": ".py",
   "mimetype": "text/x-python",
   "name": "python",
   "nbconvert_exporter": "python",
   "pygments_lexer": "ipython3",
   "version": "3.11.0"
  }
 },
 "nbformat": 4,
 "nbformat_minor": 5
}
